{
  "nbformat": 4,
  "nbformat_minor": 0,
  "metadata": {
    "colab": {
      "provenance": [],
      "include_colab_link": true
    },
    "kernelspec": {
      "name": "python3",
      "display_name": "Python 3"
    },
    "language_info": {
      "name": "python"
    }
  },
  "cells": [
    {
      "cell_type": "markdown",
      "metadata": {
        "id": "view-in-github",
        "colab_type": "text"
      },
      "source": [
        "<a href=\"https://colab.research.google.com/github/crowcawll/ICT239_TMA01_DarrenQuek002_DarrenQuekJiawei/blob/main/ENG335_GBA01_Group1.ipynb\" target=\"_parent\"><img src=\"https://colab.research.google.com/assets/colab-badge.svg\" alt=\"Open In Colab\"/></a>"
      ]
    },
    {
      "cell_type": "markdown",
      "source": [
        "**Group Information:**\n",
        "- Darren (E2480279)\n",
        "- Andrew (E2480251)\n",
        "- Lim Wen Jun Vera (Q2482111)\n",
        "- Natalie Chng (K2480271)\n",
        "-Celine Tan Zi Ling (Q2480275)\n"
      ],
      "metadata": {
        "id": "0WB-f1vEglur"
      }
    },
    {
      "cell_type": "markdown",
      "source": [
        "**Question 1**"
      ],
      "metadata": {
        "id": "CQYaRHvRguR8"
      }
    },
    {
      "cell_type": "code",
      "execution_count": null,
      "metadata": {
        "id": "mH3VeHIRgjaC"
      },
      "outputs": [],
      "source": []
    }
  ]
}